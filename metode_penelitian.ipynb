{
  "nbformat": 4,
  "nbformat_minor": 0,
  "metadata": {
    "colab": {
      "name": "metode_penelitian.ipynb",
      "provenance": []
    },
    "kernelspec": {
      "name": "python3",
      "display_name": "Python 3"
    },
    "language_info": {
      "name": "python"
    }
  },
  "cells": [
    {
      "cell_type": "code",
      "execution_count": null,
      "metadata": {
        "id": "j9ZT9dBXeWB5"
      },
      "outputs": [],
      "source": [
        "import numpy as np\n",
        "import pandas as pd\n",
        "import matplotlib.pyplot as plt\n",
        "import seaborn as sns\n",
        "import warnings\n",
        "warnings.filterwarnings('ignore')"
      ]
    },
    {
      "cell_type": "code",
      "source": [
        "# init for importing data indonesia\n",
        "df_indo=pd.read_excel('/content/drive/MyDrive/isoterm/DATA LOMBA.xlsx',sheet_name='Indonesia')\n",
        "df_world=pd.read_excel('/content/drive/MyDrive/isoterm/DATA LOMBA.xlsx',sheet_name='Dunia')\n",
        "df_world.columns"
      ],
      "metadata": {
        "id": "6gnQI0NoesIL",
        "colab": {
          "base_uri": "https://localhost:8080/"
        },
        "outputId": "a296de9d-29b9-4805-dc70-e040cd60f6c7"
      },
      "execution_count": null,
      "outputs": [
        {
          "output_type": "execute_result",
          "data": {
            "text/plain": [
              "Index(['Tahun', 'P (Populasi)', 'A (GDP Perkapita)', 'T (konstan)',\n",
              "       'Tapak ekologi Konsumsi Perkapita',\n",
              "       'Impact dihampiri tapak ekologi kali populasi', 'Unnamed: 6',\n",
              "       'Unnamed: 7', 'Unnamed: 8'],\n",
              "      dtype='object')"
            ]
          },
          "metadata": {},
          "execution_count": 47
        }
      ]
    },
    {
      "cell_type": "code",
      "source": [
        "###\n",
        "df_indo.describe()"
      ],
      "metadata": {
        "colab": {
          "base_uri": "https://localhost:8080/",
          "height": 362
        },
        "id": "63QZSrI3e4xF",
        "outputId": "5681cabf-1a10-4995-fcfc-cdccbb6eb850"
      },
      "execution_count": null,
      "outputs": [
        {
          "output_type": "execute_result",
          "data": {
            "text/html": [
              "\n",
              "  <div id=\"df-95e6785d-c634-441e-9e81-742a0813b45d\">\n",
              "    <div class=\"colab-df-container\">\n",
              "      <div>\n",
              "<style scoped>\n",
              "    .dataframe tbody tr th:only-of-type {\n",
              "        vertical-align: middle;\n",
              "    }\n",
              "\n",
              "    .dataframe tbody tr th {\n",
              "        vertical-align: top;\n",
              "    }\n",
              "\n",
              "    .dataframe thead th {\n",
              "        text-align: right;\n",
              "    }\n",
              "</style>\n",
              "<table border=\"1\" class=\"dataframe\">\n",
              "  <thead>\n",
              "    <tr style=\"text-align: right;\">\n",
              "      <th></th>\n",
              "      <th>Tahun</th>\n",
              "      <th>P (Populasi)</th>\n",
              "      <th>A (GDP Perkapita)</th>\n",
              "      <th>T (konstan)</th>\n",
              "      <th>Tapak ekologi Konsumsi Perkapita</th>\n",
              "      <th>Impact dihampiri tapak ekologi kali populasi</th>\n",
              "      <th>Tapak ekologi</th>\n",
              "    </tr>\n",
              "  </thead>\n",
              "  <tbody>\n",
              "    <tr>\n",
              "      <th>count</th>\n",
              "      <td>19.000000</td>\n",
              "      <td>1.900000e+01</td>\n",
              "      <td>19.000000</td>\n",
              "      <td>19.0</td>\n",
              "      <td>19.000000</td>\n",
              "      <td>1.900000e+01</td>\n",
              "      <td>1.900000e+01</td>\n",
              "    </tr>\n",
              "    <tr>\n",
              "      <th>mean</th>\n",
              "      <td>2007.000000</td>\n",
              "      <td>2.323990e+08</td>\n",
              "      <td>2073.157895</td>\n",
              "      <td>1.0</td>\n",
              "      <td>1.464259</td>\n",
              "      <td>3.421280e+08</td>\n",
              "      <td>3.399519e+08</td>\n",
              "    </tr>\n",
              "    <tr>\n",
              "      <th>std</th>\n",
              "      <td>5.627314</td>\n",
              "      <td>1.714756e+07</td>\n",
              "      <td>1216.097779</td>\n",
              "      <td>0.0</td>\n",
              "      <td>0.119390</td>\n",
              "      <td>5.292836e+07</td>\n",
              "      <td>5.328443e+07</td>\n",
              "    </tr>\n",
              "    <tr>\n",
              "      <th>min</th>\n",
              "      <td>1998.000000</td>\n",
              "      <td>2.057246e+08</td>\n",
              "      <td>464.000000</td>\n",
              "      <td>1.0</td>\n",
              "      <td>1.321492</td>\n",
              "      <td>2.718634e+08</td>\n",
              "      <td>2.718520e+08</td>\n",
              "    </tr>\n",
              "    <tr>\n",
              "      <th>25%</th>\n",
              "      <td>2002.500000</td>\n",
              "      <td>2.188336e+08</td>\n",
              "      <td>983.000000</td>\n",
              "      <td>1.0</td>\n",
              "      <td>1.358625</td>\n",
              "      <td>2.991507e+08</td>\n",
              "      <td>2.994150e+08</td>\n",
              "    </tr>\n",
              "    <tr>\n",
              "      <th>50%</th>\n",
              "      <td>2007.000000</td>\n",
              "      <td>2.323742e+08</td>\n",
              "      <td>1860.000000</td>\n",
              "      <td>1.0</td>\n",
              "      <td>1.432488</td>\n",
              "      <td>3.328734e+08</td>\n",
              "      <td>3.190845e+08</td>\n",
              "    </tr>\n",
              "    <tr>\n",
              "      <th>75%</th>\n",
              "      <td>2011.500000</td>\n",
              "      <td>2.434751e+08</td>\n",
              "      <td>3412.000000</td>\n",
              "      <td>1.0</td>\n",
              "      <td>1.546627</td>\n",
              "      <td>3.743503e+08</td>\n",
              "      <td>3.775826e+08</td>\n",
              "    </tr>\n",
              "    <tr>\n",
              "      <th>max</th>\n",
              "      <td>2016.000000</td>\n",
              "      <td>2.615564e+08</td>\n",
              "      <td>3694.000000</td>\n",
              "      <td>1.0</td>\n",
              "      <td>1.689990</td>\n",
              "      <td>4.420278e+08</td>\n",
              "      <td>4.412819e+08</td>\n",
              "    </tr>\n",
              "  </tbody>\n",
              "</table>\n",
              "</div>\n",
              "      <button class=\"colab-df-convert\" onclick=\"convertToInteractive('df-95e6785d-c634-441e-9e81-742a0813b45d')\"\n",
              "              title=\"Convert this dataframe to an interactive table.\"\n",
              "              style=\"display:none;\">\n",
              "        \n",
              "  <svg xmlns=\"http://www.w3.org/2000/svg\" height=\"24px\"viewBox=\"0 0 24 24\"\n",
              "       width=\"24px\">\n",
              "    <path d=\"M0 0h24v24H0V0z\" fill=\"none\"/>\n",
              "    <path d=\"M18.56 5.44l.94 2.06.94-2.06 2.06-.94-2.06-.94-.94-2.06-.94 2.06-2.06.94zm-11 1L8.5 8.5l.94-2.06 2.06-.94-2.06-.94L8.5 2.5l-.94 2.06-2.06.94zm10 10l.94 2.06.94-2.06 2.06-.94-2.06-.94-.94-2.06-.94 2.06-2.06.94z\"/><path d=\"M17.41 7.96l-1.37-1.37c-.4-.4-.92-.59-1.43-.59-.52 0-1.04.2-1.43.59L10.3 9.45l-7.72 7.72c-.78.78-.78 2.05 0 2.83L4 21.41c.39.39.9.59 1.41.59.51 0 1.02-.2 1.41-.59l7.78-7.78 2.81-2.81c.8-.78.8-2.07 0-2.86zM5.41 20L4 18.59l7.72-7.72 1.47 1.35L5.41 20z\"/>\n",
              "  </svg>\n",
              "      </button>\n",
              "      \n",
              "  <style>\n",
              "    .colab-df-container {\n",
              "      display:flex;\n",
              "      flex-wrap:wrap;\n",
              "      gap: 12px;\n",
              "    }\n",
              "\n",
              "    .colab-df-convert {\n",
              "      background-color: #E8F0FE;\n",
              "      border: none;\n",
              "      border-radius: 50%;\n",
              "      cursor: pointer;\n",
              "      display: none;\n",
              "      fill: #1967D2;\n",
              "      height: 32px;\n",
              "      padding: 0 0 0 0;\n",
              "      width: 32px;\n",
              "    }\n",
              "\n",
              "    .colab-df-convert:hover {\n",
              "      background-color: #E2EBFA;\n",
              "      box-shadow: 0px 1px 2px rgba(60, 64, 67, 0.3), 0px 1px 3px 1px rgba(60, 64, 67, 0.15);\n",
              "      fill: #174EA6;\n",
              "    }\n",
              "\n",
              "    [theme=dark] .colab-df-convert {\n",
              "      background-color: #3B4455;\n",
              "      fill: #D2E3FC;\n",
              "    }\n",
              "\n",
              "    [theme=dark] .colab-df-convert:hover {\n",
              "      background-color: #434B5C;\n",
              "      box-shadow: 0px 1px 3px 1px rgba(0, 0, 0, 0.15);\n",
              "      filter: drop-shadow(0px 1px 2px rgba(0, 0, 0, 0.3));\n",
              "      fill: #FFFFFF;\n",
              "    }\n",
              "  </style>\n",
              "\n",
              "      <script>\n",
              "        const buttonEl =\n",
              "          document.querySelector('#df-95e6785d-c634-441e-9e81-742a0813b45d button.colab-df-convert');\n",
              "        buttonEl.style.display =\n",
              "          google.colab.kernel.accessAllowed ? 'block' : 'none';\n",
              "\n",
              "        async function convertToInteractive(key) {\n",
              "          const element = document.querySelector('#df-95e6785d-c634-441e-9e81-742a0813b45d');\n",
              "          const dataTable =\n",
              "            await google.colab.kernel.invokeFunction('convertToInteractive',\n",
              "                                                     [key], {});\n",
              "          if (!dataTable) return;\n",
              "\n",
              "          const docLinkHtml = 'Like what you see? Visit the ' +\n",
              "            '<a target=\"_blank\" href=https://colab.research.google.com/notebooks/data_table.ipynb>data table notebook</a>'\n",
              "            + ' to learn more about interactive tables.';\n",
              "          element.innerHTML = '';\n",
              "          dataTable['output_type'] = 'display_data';\n",
              "          await google.colab.output.renderOutput(dataTable, element);\n",
              "          const docLink = document.createElement('div');\n",
              "          docLink.innerHTML = docLinkHtml;\n",
              "          element.appendChild(docLink);\n",
              "        }\n",
              "      </script>\n",
              "    </div>\n",
              "  </div>\n",
              "  "
            ],
            "text/plain": [
              "             Tahun  ...  Tapak ekologi\n",
              "count    19.000000  ...   1.900000e+01\n",
              "mean   2007.000000  ...   3.399519e+08\n",
              "std       5.627314  ...   5.328443e+07\n",
              "min    1998.000000  ...   2.718520e+08\n",
              "25%    2002.500000  ...   2.994150e+08\n",
              "50%    2007.000000  ...   3.190845e+08\n",
              "75%    2011.500000  ...   3.775826e+08\n",
              "max    2016.000000  ...   4.412819e+08\n",
              "\n",
              "[8 rows x 7 columns]"
            ]
          },
          "metadata": {},
          "execution_count": 45
        }
      ]
    },
    {
      "cell_type": "code",
      "source": [
        "df_indo"
      ],
      "metadata": {
        "colab": {
          "base_uri": "https://localhost:8080/",
          "height": 724
        },
        "id": "uu4fLO0sfFJr",
        "outputId": "e1d90cee-af1c-4737-9b8e-9b7d7f9d91df"
      },
      "execution_count": null,
      "outputs": [
        {
          "output_type": "execute_result",
          "data": {
            "text/html": [
              "\n",
              "  <div id=\"df-052b3b21-eab3-4ff0-9b15-db259384435e\">\n",
              "    <div class=\"colab-df-container\">\n",
              "      <div>\n",
              "<style scoped>\n",
              "    .dataframe tbody tr th:only-of-type {\n",
              "        vertical-align: middle;\n",
              "    }\n",
              "\n",
              "    .dataframe tbody tr th {\n",
              "        vertical-align: top;\n",
              "    }\n",
              "\n",
              "    .dataframe thead th {\n",
              "        text-align: right;\n",
              "    }\n",
              "</style>\n",
              "<table border=\"1\" class=\"dataframe\">\n",
              "  <thead>\n",
              "    <tr style=\"text-align: right;\">\n",
              "      <th></th>\n",
              "      <th>Tahun</th>\n",
              "      <th>P (Populasi)</th>\n",
              "      <th>A (GDP Perkapita)</th>\n",
              "      <th>T (konstan)</th>\n",
              "      <th>Tapak ekologi Konsumsi Perkapita</th>\n",
              "      <th>Impact dihampiri tapak ekologi kali populasi</th>\n",
              "      <th>Tapak ekologi</th>\n",
              "    </tr>\n",
              "  </thead>\n",
              "  <tbody>\n",
              "    <tr>\n",
              "      <th>0</th>\n",
              "      <td>1998</td>\n",
              "      <td>205724592</td>\n",
              "      <td>464</td>\n",
              "      <td>1</td>\n",
              "      <td>1.321492</td>\n",
              "      <td>271863363.0</td>\n",
              "      <td>271852008.7</td>\n",
              "    </tr>\n",
              "    <tr>\n",
              "      <th>1</th>\n",
              "      <td>1999</td>\n",
              "      <td>208615169</td>\n",
              "      <td>671</td>\n",
              "      <td>1</td>\n",
              "      <td>1.354625</td>\n",
              "      <td>282595396.9</td>\n",
              "      <td>282592458.7</td>\n",
              "    </tr>\n",
              "    <tr>\n",
              "      <th>2</th>\n",
              "      <td>2000</td>\n",
              "      <td>211513823</td>\n",
              "      <td>780</td>\n",
              "      <td>1</td>\n",
              "      <td>1.353163</td>\n",
              "      <td>286212576.3</td>\n",
              "      <td>286247998.0</td>\n",
              "    </tr>\n",
              "    <tr>\n",
              "      <th>3</th>\n",
              "      <td>2001</td>\n",
              "      <td>214427417</td>\n",
              "      <td>748</td>\n",
              "      <td>1</td>\n",
              "      <td>1.332925</td>\n",
              "      <td>285815561.5</td>\n",
              "      <td>285920306.7</td>\n",
              "    </tr>\n",
              "    <tr>\n",
              "      <th>4</th>\n",
              "      <td>2002</td>\n",
              "      <td>217357793</td>\n",
              "      <td>900</td>\n",
              "      <td>1</td>\n",
              "      <td>1.351622</td>\n",
              "      <td>293785599.2</td>\n",
              "      <td>293988622.4</td>\n",
              "    </tr>\n",
              "    <tr>\n",
              "      <th>5</th>\n",
              "      <td>2003</td>\n",
              "      <td>220309469</td>\n",
              "      <td>1066</td>\n",
              "      <td>1</td>\n",
              "      <td>1.382219</td>\n",
              "      <td>304515889.2</td>\n",
              "      <td>304841444.5</td>\n",
              "    </tr>\n",
              "    <tr>\n",
              "      <th>6</th>\n",
              "      <td>2004</td>\n",
              "      <td>223285676</td>\n",
              "      <td>1150</td>\n",
              "      <td>1</td>\n",
              "      <td>1.426937</td>\n",
              "      <td>318614571.7</td>\n",
              "      <td>319084496.3</td>\n",
              "    </tr>\n",
              "    <tr>\n",
              "      <th>7</th>\n",
              "      <td>2005</td>\n",
              "      <td>226289470</td>\n",
              "      <td>1263</td>\n",
              "      <td>1</td>\n",
              "      <td>1.378521</td>\n",
              "      <td>311944811.8</td>\n",
              "      <td>312528656.8</td>\n",
              "    </tr>\n",
              "    <tr>\n",
              "      <th>8</th>\n",
              "      <td>2006</td>\n",
              "      <td>229318262</td>\n",
              "      <td>1590</td>\n",
              "      <td>1</td>\n",
              "      <td>1.362624</td>\n",
              "      <td>312474539.0</td>\n",
              "      <td>313182746.3</td>\n",
              "    </tr>\n",
              "    <tr>\n",
              "      <th>9</th>\n",
              "      <td>2007</td>\n",
              "      <td>232374245</td>\n",
              "      <td>1860</td>\n",
              "      <td>1</td>\n",
              "      <td>1.432488</td>\n",
              "      <td>332873372.8</td>\n",
              "      <td>333754002.0</td>\n",
              "    </tr>\n",
              "    <tr>\n",
              "      <th>10</th>\n",
              "      <td>2008</td>\n",
              "      <td>235469762</td>\n",
              "      <td>2167</td>\n",
              "      <td>1</td>\n",
              "      <td>1.475790</td>\n",
              "      <td>347503936.3</td>\n",
              "      <td>348521106.8</td>\n",
              "    </tr>\n",
              "    <tr>\n",
              "      <th>11</th>\n",
              "      <td>2009</td>\n",
              "      <td>238620563</td>\n",
              "      <td>2261</td>\n",
              "      <td>1</td>\n",
              "      <td>1.471205</td>\n",
              "      <td>351059794.5</td>\n",
              "      <td>352118234.0</td>\n",
              "    </tr>\n",
              "    <tr>\n",
              "      <th>12</th>\n",
              "      <td>2010</td>\n",
              "      <td>241834215</td>\n",
              "      <td>3122</td>\n",
              "      <td>1</td>\n",
              "      <td>1.508487</td>\n",
              "      <td>364803715.1</td>\n",
              "      <td>365844246.6</td>\n",
              "    </tr>\n",
              "    <tr>\n",
              "      <th>13</th>\n",
              "      <td>2011</td>\n",
              "      <td>245115987</td>\n",
              "      <td>3643</td>\n",
              "      <td>1</td>\n",
              "      <td>1.532731</td>\n",
              "      <td>375696906.9</td>\n",
              "      <td>312369379.6</td>\n",
              "    </tr>\n",
              "    <tr>\n",
              "      <th>14</th>\n",
              "      <td>2012</td>\n",
              "      <td>238451722</td>\n",
              "      <td>3694</td>\n",
              "      <td>1</td>\n",
              "      <td>1.564273</td>\n",
              "      <td>373003669.7</td>\n",
              "      <td>389321039.7</td>\n",
              "    </tr>\n",
              "    <tr>\n",
              "      <th>15</th>\n",
              "      <td>2013</td>\n",
              "      <td>251805307</td>\n",
              "      <td>3624</td>\n",
              "      <td>1</td>\n",
              "      <td>1.560522</td>\n",
              "      <td>392947814.0</td>\n",
              "      <td>393301573.3</td>\n",
              "    </tr>\n",
              "    <tr>\n",
              "      <th>16</th>\n",
              "      <td>2014</td>\n",
              "      <td>255128076</td>\n",
              "      <td>3492</td>\n",
              "      <td>1</td>\n",
              "      <td>1.681764</td>\n",
              "      <td>429065319.0</td>\n",
              "      <td>429070236.4</td>\n",
              "    </tr>\n",
              "    <tr>\n",
              "      <th>17</th>\n",
              "      <td>2015</td>\n",
              "      <td>258383256</td>\n",
              "      <td>3332</td>\n",
              "      <td>1</td>\n",
              "      <td>1.639533</td>\n",
              "      <td>423627811.6</td>\n",
              "      <td>423265055.0</td>\n",
              "    </tr>\n",
              "    <tr>\n",
              "      <th>18</th>\n",
              "      <td>2016</td>\n",
              "      <td>261556381</td>\n",
              "      <td>3563</td>\n",
              "      <td>1</td>\n",
              "      <td>1.689990</td>\n",
              "      <td>442027795.2</td>\n",
              "      <td>441281865.4</td>\n",
              "    </tr>\n",
              "  </tbody>\n",
              "</table>\n",
              "</div>\n",
              "      <button class=\"colab-df-convert\" onclick=\"convertToInteractive('df-052b3b21-eab3-4ff0-9b15-db259384435e')\"\n",
              "              title=\"Convert this dataframe to an interactive table.\"\n",
              "              style=\"display:none;\">\n",
              "        \n",
              "  <svg xmlns=\"http://www.w3.org/2000/svg\" height=\"24px\"viewBox=\"0 0 24 24\"\n",
              "       width=\"24px\">\n",
              "    <path d=\"M0 0h24v24H0V0z\" fill=\"none\"/>\n",
              "    <path d=\"M18.56 5.44l.94 2.06.94-2.06 2.06-.94-2.06-.94-.94-2.06-.94 2.06-2.06.94zm-11 1L8.5 8.5l.94-2.06 2.06-.94-2.06-.94L8.5 2.5l-.94 2.06-2.06.94zm10 10l.94 2.06.94-2.06 2.06-.94-2.06-.94-.94-2.06-.94 2.06-2.06.94z\"/><path d=\"M17.41 7.96l-1.37-1.37c-.4-.4-.92-.59-1.43-.59-.52 0-1.04.2-1.43.59L10.3 9.45l-7.72 7.72c-.78.78-.78 2.05 0 2.83L4 21.41c.39.39.9.59 1.41.59.51 0 1.02-.2 1.41-.59l7.78-7.78 2.81-2.81c.8-.78.8-2.07 0-2.86zM5.41 20L4 18.59l7.72-7.72 1.47 1.35L5.41 20z\"/>\n",
              "  </svg>\n",
              "      </button>\n",
              "      \n",
              "  <style>\n",
              "    .colab-df-container {\n",
              "      display:flex;\n",
              "      flex-wrap:wrap;\n",
              "      gap: 12px;\n",
              "    }\n",
              "\n",
              "    .colab-df-convert {\n",
              "      background-color: #E8F0FE;\n",
              "      border: none;\n",
              "      border-radius: 50%;\n",
              "      cursor: pointer;\n",
              "      display: none;\n",
              "      fill: #1967D2;\n",
              "      height: 32px;\n",
              "      padding: 0 0 0 0;\n",
              "      width: 32px;\n",
              "    }\n",
              "\n",
              "    .colab-df-convert:hover {\n",
              "      background-color: #E2EBFA;\n",
              "      box-shadow: 0px 1px 2px rgba(60, 64, 67, 0.3), 0px 1px 3px 1px rgba(60, 64, 67, 0.15);\n",
              "      fill: #174EA6;\n",
              "    }\n",
              "\n",
              "    [theme=dark] .colab-df-convert {\n",
              "      background-color: #3B4455;\n",
              "      fill: #D2E3FC;\n",
              "    }\n",
              "\n",
              "    [theme=dark] .colab-df-convert:hover {\n",
              "      background-color: #434B5C;\n",
              "      box-shadow: 0px 1px 3px 1px rgba(0, 0, 0, 0.15);\n",
              "      filter: drop-shadow(0px 1px 2px rgba(0, 0, 0, 0.3));\n",
              "      fill: #FFFFFF;\n",
              "    }\n",
              "  </style>\n",
              "\n",
              "      <script>\n",
              "        const buttonEl =\n",
              "          document.querySelector('#df-052b3b21-eab3-4ff0-9b15-db259384435e button.colab-df-convert');\n",
              "        buttonEl.style.display =\n",
              "          google.colab.kernel.accessAllowed ? 'block' : 'none';\n",
              "\n",
              "        async function convertToInteractive(key) {\n",
              "          const element = document.querySelector('#df-052b3b21-eab3-4ff0-9b15-db259384435e');\n",
              "          const dataTable =\n",
              "            await google.colab.kernel.invokeFunction('convertToInteractive',\n",
              "                                                     [key], {});\n",
              "          if (!dataTable) return;\n",
              "\n",
              "          const docLinkHtml = 'Like what you see? Visit the ' +\n",
              "            '<a target=\"_blank\" href=https://colab.research.google.com/notebooks/data_table.ipynb>data table notebook</a>'\n",
              "            + ' to learn more about interactive tables.';\n",
              "          element.innerHTML = '';\n",
              "          dataTable['output_type'] = 'display_data';\n",
              "          await google.colab.output.renderOutput(dataTable, element);\n",
              "          const docLink = document.createElement('div');\n",
              "          docLink.innerHTML = docLinkHtml;\n",
              "          element.appendChild(docLink);\n",
              "        }\n",
              "      </script>\n",
              "    </div>\n",
              "  </div>\n",
              "  "
            ],
            "text/plain": [
              "    Tahun  ...  Tapak ekologi\n",
              "0    1998  ...    271852008.7\n",
              "1    1999  ...    282592458.7\n",
              "2    2000  ...    286247998.0\n",
              "3    2001  ...    285920306.7\n",
              "4    2002  ...    293988622.4\n",
              "5    2003  ...    304841444.5\n",
              "6    2004  ...    319084496.3\n",
              "7    2005  ...    312528656.8\n",
              "8    2006  ...    313182746.3\n",
              "9    2007  ...    333754002.0\n",
              "10   2008  ...    348521106.8\n",
              "11   2009  ...    352118234.0\n",
              "12   2010  ...    365844246.6\n",
              "13   2011  ...    312369379.6\n",
              "14   2012  ...    389321039.7\n",
              "15   2013  ...    393301573.3\n",
              "16   2014  ...    429070236.4\n",
              "17   2015  ...    423265055.0\n",
              "18   2016  ...    441281865.4\n",
              "\n",
              "[19 rows x 7 columns]"
            ]
          },
          "metadata": {},
          "execution_count": 9
        }
      ]
    },
    {
      "cell_type": "code",
      "source": [
        "## Corr X and y \n",
        "\n",
        "sns.heatmap(df_indo[['A (GDP Perkapita)','Tapak ekologi']].corr(),annot = True)\n",
        "plt.title('Korelasi Pearson antara GDP dan Tapak Ekologi')"
      ],
      "metadata": {
        "colab": {
          "base_uri": "https://localhost:8080/",
          "height": 298
        },
        "id": "Z2ZM279fmm88",
        "outputId": "41f8e5cd-26d5-4695-c2e5-6fd34ed50936"
      },
      "execution_count": null,
      "outputs": [
        {
          "output_type": "execute_result",
          "data": {
            "text/plain": [
              "Text(0.5, 1.0, 'Korelasi Pearson antara GDP dan Tapak Ekologi')"
            ]
          },
          "metadata": {},
          "execution_count": 16
        },
        {
          "output_type": "display_data",
          "data": {
            "image/png": "[encoded data removed]",
            "text/plain": [
              "<Figure size 432x288 with 2 Axes>"
            ]
          },
          "metadata": {
            "needs_background": "light"
          }
        }
      ]
    },
    {
      "cell_type": "code",
      "source": [
        "\n",
        "sns.heatmap(df_indo[['A (GDP Perkapita)','Tapak ekologi']].corr(method='kendall'),annot = True)\n",
        "plt.title('Korelasi Kendall antara GDP dan Tapak Ekologi')"
      ],
      "metadata": {
        "colab": {
          "base_uri": "https://localhost:8080/",
          "height": 298
        },
        "id": "HDyLceAuoPwz",
        "outputId": "1bb1bf66-9a27-4d2d-a55c-4dafaa134c68"
      },
      "execution_count": null,
      "outputs": [
        {
          "output_type": "execute_result",
          "data": {
            "text/plain": [
              "Text(0.5, 1.0, 'Korelasi Kendall antara GDP dan Tapak Ekologi')"
            ]
          },
          "metadata": {},
          "execution_count": 18
        },
        {
          "output_type": "display_data",
          "data": {
            "image/png": "[encoded data removed]",
            "text/plain": [
              "<Figure size 432x288 with 2 Axes>"
            ]
          },
          "metadata": {
            "needs_background": "light"
          }
        }
      ]
    },
    {
      "cell_type": "code",
      "source": [
        "fig, axes= plt.subplots(1, 3,figsize=(15,5))\n",
        "fig.suptitle('Korelasi antara GDP dan Tapak Ekologi data Indonesia')\n",
        "sns.heatmap(df_indo[['A (GDP Perkapita)','Tapak ekologi']].corr(method='pearson'),annot = True,ax=axes[0],)\n",
        "axes[0].set_title('Pearson Correlation')\n",
        "sns.heatmap(df_indo[['A (GDP Perkapita)','Tapak ekologi']].corr(method='spearman'),annot = True,ax=axes[1],)\n",
        "axes[1].set_title('Spearman Correlation')\n",
        "sns.heatmap(df_indo[['A (GDP Perkapita)','Tapak ekologi']].corr(method='kendall'),annot = True,ax=axes[2],)\n",
        "axes[2].set_title('Kendall Correlation')"
      ],
      "metadata": {
        "colab": {
          "base_uri": "https://localhost:8080/",
          "height": 373
        },
        "id": "tOvK9vPEpaOs",
        "outputId": "984d2549-028a-4804-92cc-fb5b3141a992"
      },
      "execution_count": null,
      "outputs": [
        {
          "output_type": "execute_result",
          "data": {
            "text/plain": [
              "Text(0.5, 1.0, 'Kendall Correlation')"
            ]
          },
          "metadata": {},
          "execution_count": 48
        },
        {
          "output_type": "display_data",
          "data": {
            "image/png": "[encoded data removed]",
            "text/plain": [
              "<Figure size 1080x360 with 6 Axes>"
            ]
          },
          "metadata": {
            "needs_background": "light"
          }
        }
      ]
    },
    {
      "cell_type": "code",
      "source": [
        "df_world=df_world.rename(columns={'Impact dihampiri tapak ekologi kali populasi':'Tapak ekologi'})\n"
      ],
      "metadata": {
        "id": "6OKQS2gCtTA2"
      },
      "execution_count": null,
      "outputs": []
    },
    {
      "cell_type": "code",
      "source": [
        "fig, axes= plt.subplots(1, 3,figsize=(15,5))\n",
        "fig.suptitle('Korelasi antara GDP dan Tapak Ekologi data Dunia')\n",
        "sns.heatmap(df_world[['A (GDP Perkapita)','Tapak ekologi']].corr(method='pearson'),annot = True,ax=axes[0],)\n",
        "axes[0].set_title('Pearson Correlation')\n",
        "sns.heatmap(df_world[['A (GDP Perkapita)','Tapak ekologi']].corr(method='spearman'),annot = True,ax=axes[1],)\n",
        "axes[1].set_title('Spearman Correlation')\n",
        "sns.heatmap(df_world[['A (GDP Perkapita)','Tapak ekologi']].corr(method='kendall'),annot = True,ax=axes[2],)\n",
        "axes[2].set_title('Kendall Correlation')"
      ],
      "metadata": {
        "colab": {
          "base_uri": "https://localhost:8080/",
          "height": 373
        },
        "id": "tPz7ofMtsbwN",
        "outputId": "8a112fb6-b1a9-4e3d-d6bd-c849d59eeef3"
      },
      "execution_count": null,
      "outputs": [
        {
          "output_type": "execute_result",
          "data": {
            "text/plain": [
              "Text(0.5, 1.0, 'Kendall Correlation')"
            ]
          },
          "metadata": {},
          "execution_count": 61
        },
        {
          "output_type": "display_data",
          "data": {
            "image/png": "[encoded data removed]",
            "text/plain": [
              "<Figure size 1080x360 with 6 Axes>"
            ]
          },
          "metadata": {
            "needs_background": "light"
          }
        }
      ]
    }
  ]
}